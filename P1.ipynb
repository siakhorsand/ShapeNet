{
 "cells": [
  {
   "cell_type": "code",
   "execution_count": 10,
   "metadata": {},
   "outputs": [
    {
     "name": "stdout",
     "output_type": "stream",
     "text": [
      "Requirement already satisfied: tensorflow in ./vash/lib/python3.10/site-packages (from -r requirements.txt (line 1)) (2.17.1)\n",
      "Collecting tensorflow.keras\n",
      "  Downloading tensorflow_keras-0.1-py3-none-any.whl (5.2 kB)\n",
      "Requirement already satisfied: Flask in ./vash/lib/python3.10/site-packages (from -r requirements.txt (line 3)) (3.1.0)\n",
      "Requirement already satisfied: numpy==1.23.5 in ./vash/lib/python3.10/site-packages (from -r requirements.txt (line 4)) (1.23.5)\n",
      "Requirement already satisfied: pandas==1.5.2 in ./vash/lib/python3.10/site-packages (from -r requirements.txt (line 5)) (1.5.2)\n",
      "Requirement already satisfied: matplotlib==3.6.2 in ./vash/lib/python3.10/site-packages (from -r requirements.txt (line 6)) (3.6.2)\n",
      "Requirement already satisfied: scikit-learn==1.1.3 in ./vash/lib/python3.10/site-packages (from -r requirements.txt (line 7)) (1.1.3)\n",
      "Requirement already satisfied: python-dateutil>=2.8.1 in ./vash/lib/python3.10/site-packages (from pandas==1.5.2->-r requirements.txt (line 5)) (2.9.0.post0)\n",
      "Requirement already satisfied: pytz>=2020.1 in ./vash/lib/python3.10/site-packages (from pandas==1.5.2->-r requirements.txt (line 5)) (2024.2)\n",
      "Requirement already satisfied: packaging>=20.0 in ./vash/lib/python3.10/site-packages (from matplotlib==3.6.2->-r requirements.txt (line 6)) (24.2)\n",
      "Requirement already satisfied: cycler>=0.10 in ./vash/lib/python3.10/site-packages (from matplotlib==3.6.2->-r requirements.txt (line 6)) (0.12.1)\n",
      "Requirement already satisfied: pillow>=6.2.0 in ./vash/lib/python3.10/site-packages (from matplotlib==3.6.2->-r requirements.txt (line 6)) (11.1.0)\n",
      "Requirement already satisfied: kiwisolver>=1.0.1 in ./vash/lib/python3.10/site-packages (from matplotlib==3.6.2->-r requirements.txt (line 6)) (1.4.8)\n",
      "Requirement already satisfied: fonttools>=4.22.0 in ./vash/lib/python3.10/site-packages (from matplotlib==3.6.2->-r requirements.txt (line 6)) (4.55.6)\n",
      "Requirement already satisfied: pyparsing>=2.2.1 in ./vash/lib/python3.10/site-packages (from matplotlib==3.6.2->-r requirements.txt (line 6)) (3.2.1)\n",
      "Requirement already satisfied: contourpy>=1.0.1 in ./vash/lib/python3.10/site-packages (from matplotlib==3.6.2->-r requirements.txt (line 6)) (1.3.1)\n",
      "Requirement already satisfied: threadpoolctl>=2.0.0 in ./vash/lib/python3.10/site-packages (from scikit-learn==1.1.3->-r requirements.txt (line 7)) (3.5.0)\n",
      "Requirement already satisfied: scipy>=1.3.2 in ./vash/lib/python3.10/site-packages (from scikit-learn==1.1.3->-r requirements.txt (line 7)) (1.15.1)\n",
      "Requirement already satisfied: joblib>=1.0.0 in ./vash/lib/python3.10/site-packages (from scikit-learn==1.1.3->-r requirements.txt (line 7)) (1.4.2)\n",
      "Requirement already satisfied: astunparse>=1.6.0 in ./vash/lib/python3.10/site-packages (from tensorflow->-r requirements.txt (line 1)) (1.6.3)\n",
      "Requirement already satisfied: opt-einsum>=2.3.2 in ./vash/lib/python3.10/site-packages (from tensorflow->-r requirements.txt (line 1)) (3.4.0)\n",
      "Requirement already satisfied: absl-py>=1.0.0 in ./vash/lib/python3.10/site-packages (from tensorflow->-r requirements.txt (line 1)) (2.1.0)\n",
      "Requirement already satisfied: keras>=3.2.0 in ./vash/lib/python3.10/site-packages (from tensorflow->-r requirements.txt (line 1)) (3.8.0)\n",
      "Requirement already satisfied: tensorboard<2.18,>=2.17 in ./vash/lib/python3.10/site-packages (from tensorflow->-r requirements.txt (line 1)) (2.17.1)\n",
      "Requirement already satisfied: gast!=0.5.0,!=0.5.1,!=0.5.2,>=0.2.1 in ./vash/lib/python3.10/site-packages (from tensorflow->-r requirements.txt (line 1)) (0.6.0)\n",
      "Requirement already satisfied: protobuf!=4.21.0,!=4.21.1,!=4.21.2,!=4.21.3,!=4.21.4,!=4.21.5,<5.0.0dev,>=3.20.3 in ./vash/lib/python3.10/site-packages (from tensorflow->-r requirements.txt (line 1)) (4.25.6)\n",
      "Requirement already satisfied: typing-extensions>=3.6.6 in ./vash/lib/python3.10/site-packages (from tensorflow->-r requirements.txt (line 1)) (4.12.2)\n",
      "Requirement already satisfied: requests<3,>=2.21.0 in ./vash/lib/python3.10/site-packages (from tensorflow->-r requirements.txt (line 1)) (2.32.3)\n",
      "Requirement already satisfied: setuptools in ./vash/lib/python3.10/site-packages (from tensorflow->-r requirements.txt (line 1)) (65.5.0)\n",
      "Requirement already satisfied: google-pasta>=0.1.1 in ./vash/lib/python3.10/site-packages (from tensorflow->-r requirements.txt (line 1)) (0.2.0)\n",
      "Requirement already satisfied: flatbuffers>=24.3.25 in ./vash/lib/python3.10/site-packages (from tensorflow->-r requirements.txt (line 1)) (25.1.24)\n",
      "Requirement already satisfied: libclang>=13.0.0 in ./vash/lib/python3.10/site-packages (from tensorflow->-r requirements.txt (line 1)) (18.1.1)\n",
      "Requirement already satisfied: ml-dtypes<0.5.0,>=0.3.1 in ./vash/lib/python3.10/site-packages (from tensorflow->-r requirements.txt (line 1)) (0.4.1)\n",
      "Requirement already satisfied: tensorflow-io-gcs-filesystem>=0.23.1 in ./vash/lib/python3.10/site-packages (from tensorflow->-r requirements.txt (line 1)) (0.37.1)\n",
      "Requirement already satisfied: termcolor>=1.1.0 in ./vash/lib/python3.10/site-packages (from tensorflow->-r requirements.txt (line 1)) (2.5.0)\n",
      "Requirement already satisfied: six>=1.12.0 in ./vash/lib/python3.10/site-packages (from tensorflow->-r requirements.txt (line 1)) (1.17.0)\n",
      "Requirement already satisfied: h5py>=3.10.0 in ./vash/lib/python3.10/site-packages (from tensorflow->-r requirements.txt (line 1)) (3.12.1)\n",
      "Requirement already satisfied: wrapt>=1.11.0 in ./vash/lib/python3.10/site-packages (from tensorflow->-r requirements.txt (line 1)) (1.17.2)\n",
      "Requirement already satisfied: grpcio<2.0,>=1.24.3 in ./vash/lib/python3.10/site-packages (from tensorflow->-r requirements.txt (line 1)) (1.70.0)\n",
      "Requirement already satisfied: click>=8.1.3 in ./vash/lib/python3.10/site-packages (from Flask->-r requirements.txt (line 3)) (8.1.8)\n",
      "Requirement already satisfied: blinker>=1.9 in ./vash/lib/python3.10/site-packages (from Flask->-r requirements.txt (line 3)) (1.9.0)\n",
      "Requirement already satisfied: itsdangerous>=2.2 in ./vash/lib/python3.10/site-packages (from Flask->-r requirements.txt (line 3)) (2.2.0)\n",
      "Requirement already satisfied: Jinja2>=3.1.2 in ./vash/lib/python3.10/site-packages (from Flask->-r requirements.txt (line 3)) (3.1.5)\n",
      "Requirement already satisfied: Werkzeug>=3.1 in ./vash/lib/python3.10/site-packages (from Flask->-r requirements.txt (line 3)) (3.1.3)\n",
      "Requirement already satisfied: wheel<1.0,>=0.23.0 in ./vash/lib/python3.10/site-packages (from astunparse>=1.6.0->tensorflow->-r requirements.txt (line 1)) (0.45.1)\n",
      "Requirement already satisfied: MarkupSafe>=2.0 in ./vash/lib/python3.10/site-packages (from Jinja2>=3.1.2->Flask->-r requirements.txt (line 3)) (3.0.2)\n",
      "Requirement already satisfied: optree in ./vash/lib/python3.10/site-packages (from keras>=3.2.0->tensorflow->-r requirements.txt (line 1)) (0.14.0)\n",
      "Requirement already satisfied: namex in ./vash/lib/python3.10/site-packages (from keras>=3.2.0->tensorflow->-r requirements.txt (line 1)) (0.0.8)\n",
      "Requirement already satisfied: rich in ./vash/lib/python3.10/site-packages (from keras>=3.2.0->tensorflow->-r requirements.txt (line 1)) (13.9.4)\n",
      "Requirement already satisfied: urllib3<3,>=1.21.1 in ./vash/lib/python3.10/site-packages (from requests<3,>=2.21.0->tensorflow->-r requirements.txt (line 1)) (2.3.0)\n",
      "Requirement already satisfied: idna<4,>=2.5 in ./vash/lib/python3.10/site-packages (from requests<3,>=2.21.0->tensorflow->-r requirements.txt (line 1)) (3.10)\n",
      "Requirement already satisfied: certifi>=2017.4.17 in ./vash/lib/python3.10/site-packages (from requests<3,>=2.21.0->tensorflow->-r requirements.txt (line 1)) (2024.12.14)\n",
      "Requirement already satisfied: charset-normalizer<4,>=2 in ./vash/lib/python3.10/site-packages (from requests<3,>=2.21.0->tensorflow->-r requirements.txt (line 1)) (3.4.1)\n",
      "Requirement already satisfied: markdown>=2.6.8 in ./vash/lib/python3.10/site-packages (from tensorboard<2.18,>=2.17->tensorflow->-r requirements.txt (line 1)) (3.7)\n",
      "Requirement already satisfied: tensorboard-data-server<0.8.0,>=0.7.0 in ./vash/lib/python3.10/site-packages (from tensorboard<2.18,>=2.17->tensorflow->-r requirements.txt (line 1)) (0.7.2)\n",
      "Requirement already satisfied: pygments<3.0.0,>=2.13.0 in ./vash/lib/python3.10/site-packages (from rich->keras>=3.2.0->tensorflow->-r requirements.txt (line 1)) (2.19.1)\n",
      "Requirement already satisfied: markdown-it-py>=2.2.0 in ./vash/lib/python3.10/site-packages (from rich->keras>=3.2.0->tensorflow->-r requirements.txt (line 1)) (3.0.0)\n",
      "Requirement already satisfied: mdurl~=0.1 in ./vash/lib/python3.10/site-packages (from markdown-it-py>=2.2.0->rich->keras>=3.2.0->tensorflow->-r requirements.txt (line 1)) (0.1.2)\n",
      "Installing collected packages: tensorflow.keras\n",
      "Successfully installed tensorflow.keras-0.1\n",
      "\u001b[33mWARNING: There was an error checking the latest version of pip.\u001b[0m\u001b[33m\n",
      "\u001b[0mNote: you may need to restart the kernel to use updated packages.\n",
      "Requirement already satisfied: scikit-learn in ./vash/lib/python3.10/site-packages (1.1.3)\n",
      "Requirement already satisfied: numpy>=1.17.3 in ./vash/lib/python3.10/site-packages (from scikit-learn) (1.23.5)\n",
      "Requirement already satisfied: scipy>=1.3.2 in ./vash/lib/python3.10/site-packages (from scikit-learn) (1.15.1)\n",
      "Requirement already satisfied: joblib>=1.0.0 in ./vash/lib/python3.10/site-packages (from scikit-learn) (1.4.2)\n",
      "Requirement already satisfied: threadpoolctl>=2.0.0 in ./vash/lib/python3.10/site-packages (from scikit-learn) (3.5.0)\n",
      "\u001b[33mWARNING: There was an error checking the latest version of pip.\u001b[0m\u001b[33m\n",
      "\u001b[0mNote: you may need to restart the kernel to use updated packages.\n"
     ]
    }
   ],
   "source": [
    "%pip install -r requirements.txt\n",
    "%pip install scikit-learn\n",
    "\n",
    "import sklearn as sk  \n",
    "import numpy as np\n",
    "import pandas as pd\n",
    "import matplotlib.pyplot as plt\n",
    "import tensorflow as tf"
   ]
  },
  {
   "cell_type": "code",
   "execution_count": 2,
   "metadata": {},
   "outputs": [],
   "source": [
    "#load the datasets from the .npy files\n",
    "circle_data   = np.load('Data/circle.npy')  \n",
    "square_data   = np.load('Data/square.npy')\n",
    "triangle_data = np.load('Data/triangle.npy')\n",
    "hexagon_data  = np.load('Data/hexagon.npy')\n",
    "octagon_data  = np.load('Data/octagon.npy')\n",
    "\n",
    "#label the datasets\n",
    "circle_labels   = np.full(len(circle_data),   0)\n",
    "square_labels   = np.full(len(square_data),   1)\n",
    "triangle_labels = np.full(len(triangle_data), 2)\n",
    "hexagon_labels  = np.full(len(hexagon_data),  3)\n",
    "octagon_labels  = np.full(len(octagon_data),  4)\n",
    "CLASS_NAMES = np.array(['circle', 'square', 'triangle', 'hexagon', 'octagon'])\n",
    "NUM_CLASSES = len(CLASS_NAMES)\n",
    "\n",
    "#combine the datasets\n",
    "X = np.concatenate([circle_data, square_data, triangle_data,\n",
    "                    hexagon_data, octagon_data], axis=0)\n",
    "y = np.concatenate([circle_labels, square_labels, triangle_labels,\n",
    "                    hexagon_labels, octagon_labels], axis=0)"
   ]
  },
  {
   "cell_type": "code",
   "execution_count": 11,
   "metadata": {},
   "outputs": [],
   "source": [
    "from sklearn.model_selection import train_test_split\n",
    "\n",
    "#split the data into training and testing sets\n",
    "X_train, X_test, y_train, y_test = train_test_split(\n",
    "    X, y, test_size=0.2, random_state=42, stratify=y\n",
    ")\n",
    "\n",
    "#Normalize the pixel values\n",
    "X_train = X_train.astype('float32') / 255.0\n",
    "X_test  = X_test.astype('float32')  / 255.0\n",
    "\n",
    "#Reshape the data\n",
    "X_train = X_train.reshape(X_train.shape[0], 28, 28, 1)\n",
    "X_test  = X_test.reshape(X_test.shape[0], 28, 28, 1)\n",
    "\n",
    "#One-hot encode the labels\n",
    "y_train = tf.keras.utils.to_categorical(y_train, 5)\n",
    "y_test  = tf.keras.utils.to_categorical(y_test,  5)\n",
    "\n",
    "\n",
    "\n"
   ]
  },
  {
   "cell_type": "code",
   "execution_count": 12,
   "metadata": {},
   "outputs": [
    {
     "name": "stderr",
     "output_type": "stream",
     "text": [
      "/Users/siakhorsand/Desktop/Projects/NN/Shape_Recognition-/vash/lib/python3.10/site-packages/keras/src/layers/convolutional/base_conv.py:107: UserWarning: Do not pass an `input_shape`/`input_dim` argument to a layer. When using Sequential models, prefer using an `Input(shape)` object as the first layer in the model instead.\n",
      "  super().__init__(activity_regularizer=activity_regularizer, **kwargs)\n"
     ]
    },
    {
     "data": {
      "text/html": [
       "<pre style=\"white-space:pre;overflow-x:auto;line-height:normal;font-family:Menlo,'DejaVu Sans Mono',consolas,'Courier New',monospace\"><span style=\"font-weight: bold\">Model: \"sequential_1\"</span>\n",
       "</pre>\n"
      ],
      "text/plain": [
       "\u001b[1mModel: \"sequential_1\"\u001b[0m\n"
      ]
     },
     "metadata": {},
     "output_type": "display_data"
    },
    {
     "data": {
      "text/html": [
       "<pre style=\"white-space:pre;overflow-x:auto;line-height:normal;font-family:Menlo,'DejaVu Sans Mono',consolas,'Courier New',monospace\">┏━━━━━━━━━━━━━━━━━━━━━━━━━━━━━━━━━┳━━━━━━━━━━━━━━━━━━━━━━━━┳━━━━━━━━━━━━━━━┓\n",
       "┃<span style=\"font-weight: bold\"> Layer (type)                    </span>┃<span style=\"font-weight: bold\"> Output Shape           </span>┃<span style=\"font-weight: bold\">       Param # </span>┃\n",
       "┡━━━━━━━━━━━━━━━━━━━━━━━━━━━━━━━━━╇━━━━━━━━━━━━━━━━━━━━━━━━╇━━━━━━━━━━━━━━━┩\n",
       "│ sequential (<span style=\"color: #0087ff; text-decoration-color: #0087ff\">Sequential</span>)         │ ?                      │   <span style=\"color: #00af00; text-decoration-color: #00af00\">0</span> (unbuilt) │\n",
       "├─────────────────────────────────┼────────────────────────┼───────────────┤\n",
       "│ conv2d (<span style=\"color: #0087ff; text-decoration-color: #0087ff\">Conv2D</span>)                 │ ?                      │   <span style=\"color: #00af00; text-decoration-color: #00af00\">0</span> (unbuilt) │\n",
       "├─────────────────────────────────┼────────────────────────┼───────────────┤\n",
       "│ batch_normalization             │ ?                      │   <span style=\"color: #00af00; text-decoration-color: #00af00\">0</span> (unbuilt) │\n",
       "│ (<span style=\"color: #0087ff; text-decoration-color: #0087ff\">BatchNormalization</span>)            │                        │               │\n",
       "├─────────────────────────────────┼────────────────────────┼───────────────┤\n",
       "│ max_pooling2d (<span style=\"color: #0087ff; text-decoration-color: #0087ff\">MaxPooling2D</span>)    │ ?                      │             <span style=\"color: #00af00; text-decoration-color: #00af00\">0</span> │\n",
       "├─────────────────────────────────┼────────────────────────┼───────────────┤\n",
       "│ conv2d_1 (<span style=\"color: #0087ff; text-decoration-color: #0087ff\">Conv2D</span>)               │ ?                      │   <span style=\"color: #00af00; text-decoration-color: #00af00\">0</span> (unbuilt) │\n",
       "├─────────────────────────────────┼────────────────────────┼───────────────┤\n",
       "│ batch_normalization_1           │ ?                      │   <span style=\"color: #00af00; text-decoration-color: #00af00\">0</span> (unbuilt) │\n",
       "│ (<span style=\"color: #0087ff; text-decoration-color: #0087ff\">BatchNormalization</span>)            │                        │               │\n",
       "├─────────────────────────────────┼────────────────────────┼───────────────┤\n",
       "│ max_pooling2d_1 (<span style=\"color: #0087ff; text-decoration-color: #0087ff\">MaxPooling2D</span>)  │ ?                      │             <span style=\"color: #00af00; text-decoration-color: #00af00\">0</span> │\n",
       "├─────────────────────────────────┼────────────────────────┼───────────────┤\n",
       "│ conv2d_2 (<span style=\"color: #0087ff; text-decoration-color: #0087ff\">Conv2D</span>)               │ ?                      │   <span style=\"color: #00af00; text-decoration-color: #00af00\">0</span> (unbuilt) │\n",
       "├─────────────────────────────────┼────────────────────────┼───────────────┤\n",
       "│ batch_normalization_2           │ ?                      │   <span style=\"color: #00af00; text-decoration-color: #00af00\">0</span> (unbuilt) │\n",
       "│ (<span style=\"color: #0087ff; text-decoration-color: #0087ff\">BatchNormalization</span>)            │                        │               │\n",
       "├─────────────────────────────────┼────────────────────────┼───────────────┤\n",
       "│ flatten (<span style=\"color: #0087ff; text-decoration-color: #0087ff\">Flatten</span>)               │ ?                      │   <span style=\"color: #00af00; text-decoration-color: #00af00\">0</span> (unbuilt) │\n",
       "├─────────────────────────────────┼────────────────────────┼───────────────┤\n",
       "│ dense (<span style=\"color: #0087ff; text-decoration-color: #0087ff\">Dense</span>)                   │ ?                      │   <span style=\"color: #00af00; text-decoration-color: #00af00\">0</span> (unbuilt) │\n",
       "├─────────────────────────────────┼────────────────────────┼───────────────┤\n",
       "│ batch_normalization_3           │ ?                      │   <span style=\"color: #00af00; text-decoration-color: #00af00\">0</span> (unbuilt) │\n",
       "│ (<span style=\"color: #0087ff; text-decoration-color: #0087ff\">BatchNormalization</span>)            │                        │               │\n",
       "├─────────────────────────────────┼────────────────────────┼───────────────┤\n",
       "│ dropout (<span style=\"color: #0087ff; text-decoration-color: #0087ff\">Dropout</span>)               │ ?                      │             <span style=\"color: #00af00; text-decoration-color: #00af00\">0</span> │\n",
       "├─────────────────────────────────┼────────────────────────┼───────────────┤\n",
       "│ dense_1 (<span style=\"color: #0087ff; text-decoration-color: #0087ff\">Dense</span>)                 │ ?                      │   <span style=\"color: #00af00; text-decoration-color: #00af00\">0</span> (unbuilt) │\n",
       "└─────────────────────────────────┴────────────────────────┴───────────────┘\n",
       "</pre>\n"
      ],
      "text/plain": [
       "┏━━━━━━━━━━━━━━━━━━━━━━━━━━━━━━━━━┳━━━━━━━━━━━━━━━━━━━━━━━━┳━━━━━━━━━━━━━━━┓\n",
       "┃\u001b[1m \u001b[0m\u001b[1mLayer (type)                   \u001b[0m\u001b[1m \u001b[0m┃\u001b[1m \u001b[0m\u001b[1mOutput Shape          \u001b[0m\u001b[1m \u001b[0m┃\u001b[1m \u001b[0m\u001b[1m      Param #\u001b[0m\u001b[1m \u001b[0m┃\n",
       "┡━━━━━━━━━━━━━━━━━━━━━━━━━━━━━━━━━╇━━━━━━━━━━━━━━━━━━━━━━━━╇━━━━━━━━━━━━━━━┩\n",
       "│ sequential (\u001b[38;5;33mSequential\u001b[0m)         │ ?                      │   \u001b[38;5;34m0\u001b[0m (unbuilt) │\n",
       "├─────────────────────────────────┼────────────────────────┼───────────────┤\n",
       "│ conv2d (\u001b[38;5;33mConv2D\u001b[0m)                 │ ?                      │   \u001b[38;5;34m0\u001b[0m (unbuilt) │\n",
       "├─────────────────────────────────┼────────────────────────┼───────────────┤\n",
       "│ batch_normalization             │ ?                      │   \u001b[38;5;34m0\u001b[0m (unbuilt) │\n",
       "│ (\u001b[38;5;33mBatchNormalization\u001b[0m)            │                        │               │\n",
       "├─────────────────────────────────┼────────────────────────┼───────────────┤\n",
       "│ max_pooling2d (\u001b[38;5;33mMaxPooling2D\u001b[0m)    │ ?                      │             \u001b[38;5;34m0\u001b[0m │\n",
       "├─────────────────────────────────┼────────────────────────┼───────────────┤\n",
       "│ conv2d_1 (\u001b[38;5;33mConv2D\u001b[0m)               │ ?                      │   \u001b[38;5;34m0\u001b[0m (unbuilt) │\n",
       "├─────────────────────────────────┼────────────────────────┼───────────────┤\n",
       "│ batch_normalization_1           │ ?                      │   \u001b[38;5;34m0\u001b[0m (unbuilt) │\n",
       "│ (\u001b[38;5;33mBatchNormalization\u001b[0m)            │                        │               │\n",
       "├─────────────────────────────────┼────────────────────────┼───────────────┤\n",
       "│ max_pooling2d_1 (\u001b[38;5;33mMaxPooling2D\u001b[0m)  │ ?                      │             \u001b[38;5;34m0\u001b[0m │\n",
       "├─────────────────────────────────┼────────────────────────┼───────────────┤\n",
       "│ conv2d_2 (\u001b[38;5;33mConv2D\u001b[0m)               │ ?                      │   \u001b[38;5;34m0\u001b[0m (unbuilt) │\n",
       "├─────────────────────────────────┼────────────────────────┼───────────────┤\n",
       "│ batch_normalization_2           │ ?                      │   \u001b[38;5;34m0\u001b[0m (unbuilt) │\n",
       "│ (\u001b[38;5;33mBatchNormalization\u001b[0m)            │                        │               │\n",
       "├─────────────────────────────────┼────────────────────────┼───────────────┤\n",
       "│ flatten (\u001b[38;5;33mFlatten\u001b[0m)               │ ?                      │   \u001b[38;5;34m0\u001b[0m (unbuilt) │\n",
       "├─────────────────────────────────┼────────────────────────┼───────────────┤\n",
       "│ dense (\u001b[38;5;33mDense\u001b[0m)                   │ ?                      │   \u001b[38;5;34m0\u001b[0m (unbuilt) │\n",
       "├─────────────────────────────────┼────────────────────────┼───────────────┤\n",
       "│ batch_normalization_3           │ ?                      │   \u001b[38;5;34m0\u001b[0m (unbuilt) │\n",
       "│ (\u001b[38;5;33mBatchNormalization\u001b[0m)            │                        │               │\n",
       "├─────────────────────────────────┼────────────────────────┼───────────────┤\n",
       "│ dropout (\u001b[38;5;33mDropout\u001b[0m)               │ ?                      │             \u001b[38;5;34m0\u001b[0m │\n",
       "├─────────────────────────────────┼────────────────────────┼───────────────┤\n",
       "│ dense_1 (\u001b[38;5;33mDense\u001b[0m)                 │ ?                      │   \u001b[38;5;34m0\u001b[0m (unbuilt) │\n",
       "└─────────────────────────────────┴────────────────────────┴───────────────┘\n"
      ]
     },
     "metadata": {},
     "output_type": "display_data"
    },
    {
     "data": {
      "text/html": [
       "<pre style=\"white-space:pre;overflow-x:auto;line-height:normal;font-family:Menlo,'DejaVu Sans Mono',consolas,'Courier New',monospace\"><span style=\"font-weight: bold\"> Total params: </span><span style=\"color: #00af00; text-decoration-color: #00af00\">0</span> (0.00 B)\n",
       "</pre>\n"
      ],
      "text/plain": [
       "\u001b[1m Total params: \u001b[0m\u001b[38;5;34m0\u001b[0m (0.00 B)\n"
      ]
     },
     "metadata": {},
     "output_type": "display_data"
    },
    {
     "data": {
      "text/html": [
       "<pre style=\"white-space:pre;overflow-x:auto;line-height:normal;font-family:Menlo,'DejaVu Sans Mono',consolas,'Courier New',monospace\"><span style=\"font-weight: bold\"> Trainable params: </span><span style=\"color: #00af00; text-decoration-color: #00af00\">0</span> (0.00 B)\n",
       "</pre>\n"
      ],
      "text/plain": [
       "\u001b[1m Trainable params: \u001b[0m\u001b[38;5;34m0\u001b[0m (0.00 B)\n"
      ]
     },
     "metadata": {},
     "output_type": "display_data"
    },
    {
     "data": {
      "text/html": [
       "<pre style=\"white-space:pre;overflow-x:auto;line-height:normal;font-family:Menlo,'DejaVu Sans Mono',consolas,'Courier New',monospace\"><span style=\"font-weight: bold\"> Non-trainable params: </span><span style=\"color: #00af00; text-decoration-color: #00af00\">0</span> (0.00 B)\n",
       "</pre>\n"
      ],
      "text/plain": [
       "\u001b[1m Non-trainable params: \u001b[0m\u001b[38;5;34m0\u001b[0m (0.00 B)\n"
      ]
     },
     "metadata": {},
     "output_type": "display_data"
    },
    {
     "name": "stdout",
     "output_type": "stream",
     "text": [
      "Epoch 1/50\n",
      "\u001b[1m8414/8414\u001b[0m \u001b[32m━━━━━━━━━━━━━━━━━━━━\u001b[0m\u001b[37m\u001b[0m \u001b[1m149s\u001b[0m 18ms/step - accuracy: 0.7666 - loss: 0.5610 - val_accuracy: 0.8589 - val_loss: 0.3435\n",
      "Epoch 2/50\n",
      "\u001b[1m8414/8414\u001b[0m \u001b[32m━━━━━━━━━━━━━━━━━━━━\u001b[0m\u001b[37m\u001b[0m \u001b[1m142s\u001b[0m 17ms/step - accuracy: 0.8484 - loss: 0.3634 - val_accuracy: 0.8630 - val_loss: 0.3370\n",
      "Epoch 3/50\n",
      "\u001b[1m8414/8414\u001b[0m \u001b[32m━━━━━━━━━━━━━━━━━━━━\u001b[0m\u001b[37m\u001b[0m \u001b[1m134s\u001b[0m 16ms/step - accuracy: 0.8567 - loss: 0.3458 - val_accuracy: 0.8642 - val_loss: 0.3288\n",
      "Epoch 4/50\n",
      "\u001b[1m8414/8414\u001b[0m \u001b[32m━━━━━━━━━━━━━━━━━━━━\u001b[0m\u001b[37m\u001b[0m \u001b[1m139s\u001b[0m 16ms/step - accuracy: 0.8600 - loss: 0.3378 - val_accuracy: 0.8681 - val_loss: 0.3164\n",
      "Epoch 5/50\n",
      "\u001b[1m8414/8414\u001b[0m \u001b[32m━━━━━━━━━━━━━━━━━━━━\u001b[0m\u001b[37m\u001b[0m \u001b[1m142s\u001b[0m 17ms/step - accuracy: 0.8625 - loss: 0.3304 - val_accuracy: 0.8621 - val_loss: 0.3207\n",
      "Epoch 6/50\n",
      "\u001b[1m8414/8414\u001b[0m \u001b[32m━━━━━━━━━━━━━━━━━━━━\u001b[0m\u001b[37m\u001b[0m \u001b[1m141s\u001b[0m 17ms/step - accuracy: 0.8635 - loss: 0.3283 - val_accuracy: 0.8582 - val_loss: 0.3269\n",
      "Epoch 7/50\n",
      "\u001b[1m8414/8414\u001b[0m \u001b[32m━━━━━━━━━━━━━━━━━━━━\u001b[0m\u001b[37m\u001b[0m \u001b[1m141s\u001b[0m 17ms/step - accuracy: 0.8654 - loss: 0.3255 - val_accuracy: 0.8593 - val_loss: 0.3270\n"
     ]
    }
   ],
   "source": [
    "from tensorflow.keras.callbacks import EarlyStopping\n",
    "\n",
    "def create_model():\n",
    "    data_augmentation = tf.keras.Sequential([\n",
    "        tf.keras.layers.RandomRotation(0.1),\n",
    "        tf.keras.layers.RandomZoom(0.1),\n",
    "        tf.keras.layers.RandomTranslation(0.1, 0.1),\n",
    "    ])\n",
    "    \n",
    "    model = tf.keras.models.Sequential([\n",
    "        data_augmentation,\n",
    "        tf.keras.layers.Conv2D(32, (3,3), activation='relu', input_shape=(28,28,1)), #use input(shape) instead of input_shape\n",
    "        tf.keras.layers.BatchNormalization(),\n",
    "        tf.keras.layers.MaxPooling2D((2,2)),\n",
    "        tf.keras.layers.Conv2D(64, (3,3), activation='relu'),\n",
    "        tf.keras.layers.BatchNormalization(),\n",
    "        tf.keras.layers.MaxPooling2D((2,2)),\n",
    "        tf.keras.layers.Conv2D(128, (3,3), activation='relu'),\n",
    "        tf.keras.layers.BatchNormalization(),\n",
    "        tf.keras.layers.Flatten(),\n",
    "        tf.keras.layers.Dense(256, activation='relu'),\n",
    "        tf.keras.layers.BatchNormalization(),\n",
    "        tf.keras.layers.Dropout(0.3),\n",
    "        tf.keras.layers.Dense(5, activation='softmax')\n",
    "    ])\n",
    "\n",
    "    model.compile(\n",
    "        optimizer='adam',\n",
    "        loss='categorical_crossentropy',\n",
    "        metrics=['accuracy']\n",
    "    )\n",
    "    return model\n",
    "model = create_model()\n",
    "model.summary()\n",
    "early_stopping = EarlyStopping(monitor='val_loss', patience=3, restore_best_weights=True)\n",
    "history = model.fit(\n",
    "    X_train, y_train,\n",
    "    epochs=50,\n",
    "    batch_size=64,\n",
    "    validation_data=(X_test, y_test),\n",
    "    callbacks=[early_stopping]\n",
    ")\n",
    "\n"
   ]
  },
  {
   "cell_type": "code",
   "execution_count": 14,
   "metadata": {},
   "outputs": [
    {
     "data": {
      "image/png": "[encoded data removed]",
      "text/plain": [
       "<Figure size 640x480 with 1 Axes>"
      ]
     },
     "metadata": {},
     "output_type": "display_data"
    },
    {
     "data": {
      "image/png": "[encoded data removed]",
      "text/plain": [
       "<Figure size 640x480 with 1 Axes>"
      ]
     },
     "metadata": {},
     "output_type": "display_data"
    },
    {
     "name": "stdout",
     "output_type": "stream",
     "text": [
      "4207/4207 - 10s - 2ms/step - accuracy: 0.8695 - loss: 0.3196\n"
     ]
    },
    {
     "name": "stderr",
     "output_type": "stream",
     "text": [
      "WARNING:absl:You are saving your model as an HDF5 file via `model.save()` or `keras.saving.save_model(model)`. This file format is considered legacy. We recommend using instead the native Keras format, e.g. `model.save('my_model.keras')` or `keras.saving.save_model(model, 'my_model.keras')`. \n"
     ]
    },
    {
     "name": "stdout",
     "output_type": "stream",
     "text": [
      "0.8695364594459534\n"
     ]
    }
   ],
   "source": [
    "\n",
    "#plot the training and validation accuracy\n",
    "plt.plot(history.history['accuracy'], label='accuracy')\n",
    "plt.plot(history.history['val_accuracy'], label = 'val_accuracy')\n",
    "plt.xlabel('Epoch')\n",
    "plt.ylabel('Accuracy')\n",
    "plt.ylim([0, 1])\n",
    "plt.legend(loc='lower right')\n",
    "plt.show()\n",
    "\n",
    "#plot the training and validation loss\n",
    "plt.plot(history.history['loss'], label='loss')\n",
    "plt.plot(history.history['val_loss'], label = 'val_loss')\n",
    "plt.xlabel('Epoch')\n",
    "plt.ylabel('Loss')\n",
    "plt.ylim([0, 1])\n",
    "plt.legend(loc='lower right')\n",
    "plt.show()\n",
    "\n",
    "#Evaluate the model\n",
    "test_loss, test_acc = model.evaluate(X_test, y_test, verbose=2)\n",
    "print(test_acc)\n",
    "\n",
    "#Save the model\n",
    "model.save('shapes_model.h5')\n"
   ]
  },
  {
   "cell_type": "code",
   "execution_count": 15,
   "metadata": {},
   "outputs": [
    {
     "name": "stdout",
     "output_type": "stream",
     "text": [
      "\u001b[1m4207/4207\u001b[0m \u001b[32m━━━━━━━━━━━━━━━━━━━━\u001b[0m\u001b[37m\u001b[0m \u001b[1m10s\u001b[0m 2ms/step - accuracy: 0.8693 - loss: 0.3187\n"
     ]
    },
    {
     "name": "stderr",
     "output_type": "stream",
     "text": [
      "WARNING:absl:You are saving your model as an HDF5 file via `model.save()` or `keras.saving.save_model(model)`. This file format is considered legacy. We recommend using instead the native Keras format, e.g. `model.save('my_model.keras')` or `keras.saving.save_model(model, 'my_model.keras')`. \n"
     ]
    },
    {
     "name": "stdout",
     "output_type": "stream",
     "text": [
      "Test Accuracy: 0.8695\n",
      "Model saved as shape_model.h5\n"
     ]
    }
   ],
   "source": [
    "loss, acc = model.evaluate(X_test, y_test)\n",
    "print(f\"Test Accuracy: {acc:.4f}\")\n",
    "\n",
    "model.save(\"shape_model.h5\")\n",
    "print(\"Model saved as shape_model.h5\")"
   ]
  },
  {
   "cell_type": "code",
   "execution_count": 25,
   "metadata": {},
   "outputs": [
    {
     "data": {
      "image/png": "[encoded data removed]",
      "text/plain": [
       "<Figure size 640x480 with 1 Axes>"
      ]
     },
     "metadata": {},
     "output_type": "display_data"
    }
   ],
   "source": [
    "import matplotlib.pyplot as plt\n",
    "\n",
    "index = 19\n",
    "plt.imshow(X_train[index].squeeze(), cmap='gray')\n",
    "plt.title(f\"Label = {y_train[index]}\")\n",
    "plt.show()"
   ]
  },
  {
   "cell_type": "code",
   "execution_count": 26,
   "metadata": {},
   "outputs": [
    {
     "name": "stdout",
     "output_type": "stream",
     "text": [
      "\u001b[1m1/1\u001b[0m \u001b[32m━━━━━━━━━━━━━━━━━━━━\u001b[0m\u001b[37m\u001b[0m \u001b[1m0s\u001b[0m 58ms/step\n",
      "Predicted: [4 3 0 0 3 3 0 1 2 1]\n",
      "True labels: [[0. 0. 0. 0. 1.]\n",
      " [0. 0. 0. 1. 0.]\n",
      " [1. 0. 0. 0. 0.]\n",
      " [1. 0. 0. 0. 0.]\n",
      " [0. 0. 0. 1. 0.]\n",
      " [0. 0. 0. 0. 1.]\n",
      " [1. 0. 0. 0. 0.]\n",
      " [0. 1. 0. 0. 0.]\n",
      " [0. 0. 1. 0. 0.]\n",
      " [0. 1. 0. 0. 0.]]\n"
     ]
    }
   ],
   "source": [
    "# Example quick check\n",
    "import numpy as np\n",
    "\n",
    "preds = model.predict(X_test[:10])\n",
    "pred_classes = np.argmax(preds, axis=1)\n",
    "print(\"Predicted:\", pred_classes)\n",
    "print(\"True labels:\", y_test[:10])"
   ]
  }
 ],
 "metadata": {
  "kernelspec": {
   "display_name": "vash",
   "language": "python",
   "name": "python3"
  },
  "language_info": {
   "codemirror_mode": {
    "name": "ipython",
    "version": 3
   },
   "file_extension": ".py",
   "mimetype": "text/x-python",
   "name": "python",
   "nbconvert_exporter": "python",
   "pygments_lexer": "ipython3",
   "version": "3.10.12"
  }
 },
 "nbformat": 4,
 "nbformat_minor": 2
}
